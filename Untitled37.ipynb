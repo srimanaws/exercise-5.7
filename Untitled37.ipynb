{
 "cells": [
  {
   "cell_type": "code",
   "execution_count": 2,
   "id": "fe139cba-04f2-42ae-b1a3-2ccfe2e54f52",
   "metadata": {},
   "outputs": [
    {
     "name": "stdout",
     "output_type": "stream",
     "text": [
      "Unique numbers: [1, 2, 3, 5, 7]\n",
      "Unique strings: ['apple', 'banana', 'orange']\n"
     ]
    }
   ],
   "source": [
    "# Exercise 5.7 by sriman\n",
    "# Define a function to remove duplicates and return unique values in sorted order\n",
    "def eliminate_duplicates(input_list):\n",
    "    unique_list = []  # Start with an empty list\n",
    "    for item in input_list:\n",
    "        if item not in unique_list:  # If the item isn't in the unique list yet\n",
    "            unique_list.append(item)  # Add it to the unique list\n",
    "    return sorted(unique_list)  # Return the sorted unique list\n",
    "\n",
    "# Test with a list of numbers\n",
    "numbers = [3, 5, 2, 3, 7, 5, 1]\n",
    "unique_numbers = eliminate_duplicates(numbers)\n",
    "print(f\"Unique numbers: {unique_numbers}\")\n",
    "\n",
    "# Test with a list of strings\n",
    "strings = ['apple', 'banana', 'apple', 'orange', 'banana']\n",
    "unique_strings = eliminate_duplicates(strings)\n",
    "print(f\"Unique strings: {unique_strings}\")\n"
   ]
  }
 ],
 "metadata": {
  "kernelspec": {
   "display_name": "Python 3 (ipykernel)",
   "language": "python",
   "name": "python3"
  },
  "language_info": {
   "codemirror_mode": {
    "name": "ipython",
    "version": 3
   },
   "file_extension": ".py",
   "mimetype": "text/x-python",
   "name": "python",
   "nbconvert_exporter": "python",
   "pygments_lexer": "ipython3",
   "version": "3.12.4"
  }
 },
 "nbformat": 4,
 "nbformat_minor": 5
}
